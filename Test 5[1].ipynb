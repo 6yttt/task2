{
 "cells": [
  {
   "cell_type": "markdown",
   "id": "b4ae384b",
   "metadata": {},
   "source": [
    "# Write a Program That can Take Name in lower case and return it in Upper case\n",
    "_ note:\n",
    "> use a function \n",
    "\n",
    "> use map function"
   ]
  },
  {
   "cell_type": "code",
   "execution_count": 8,
   "id": "37a38a7a",
   "metadata": {},
   "outputs": [
    {
     "data": {
      "text/plain": [
       "'THIS IS MY FIRST TEST'"
      ]
     },
     "execution_count": 8,
     "metadata": {},
     "output_type": "execute_result"
    }
   ],
   "source": [
    "def converting_to_Upper(string):\n",
    "    return (string.upper())\n",
    "\n",
    "converting_to_Upper(\"this is my first test\")"
   ]
  },
  {
   "cell_type": "code",
   "execution_count": 9,
   "id": "ddcf190b",
   "metadata": {},
   "outputs": [
    {
     "data": {
      "text/plain": [
       "['AHMED', 'OMAR', 'MOHAMED']"
      ]
     },
     "execution_count": 9,
     "metadata": {},
     "output_type": "execute_result"
    }
   ],
   "source": [
    "My_string = ['ahmed' , 'omar' , 'mohamed']\n",
    "list(map(converting_to_Upper , My_string))"
   ]
  },
  {
   "cell_type": "markdown",
   "id": "c9baf35a",
   "metadata": {},
   "source": [
    "# Write a Program That Can Take a Number and Check for it (Prime or Not) \n",
    "\n",
    "_ note:\n",
    "\n",
    "> use a function \n",
    "\n",
    "> use map function"
   ]
  },
  {
   "cell_type": "code",
   "execution_count": 4,
   "id": "4412d218",
   "metadata": {},
   "outputs": [
    {
     "data": {
      "text/plain": [
       "False"
      ]
     },
     "execution_count": 4,
     "metadata": {},
     "output_type": "execute_result"
    }
   ],
   "source": [
    "# this is a function checking the prime number\n",
    "def if_prime(n):\n",
    "    if n < 2 :\n",
    "        return False\n",
    "    for i in range(2, n):\n",
    "        if n % i == 0 :\n",
    "            return False\n",
    "    return True\n",
    "if_prime(4)"
   ]
  },
  {
   "cell_type": "code",
   "execution_count": 5,
   "id": "36a290ac",
   "metadata": {},
   "outputs": [
    {
     "data": {
      "text/plain": [
       "[True, True, False, False]"
      ]
     },
     "execution_count": 5,
     "metadata": {},
     "output_type": "execute_result"
    }
   ],
   "source": [
    "#check if the number is prime using map function \n",
    "My_Number = [ 3 , 5 , 8 , 10 ]\n",
    "list(map( if_prime , My_Number))"
   ]
  }
 ],
 "metadata": {
  "kernelspec": {
   "display_name": "Python 3 (ipykernel)",
   "language": "python",
   "name": "python3"
  },
  "language_info": {
   "codemirror_mode": {
    "name": "ipython",
    "version": 3
   },
   "file_extension": ".py",
   "mimetype": "text/x-python",
   "name": "python",
   "nbconvert_exporter": "python",
   "pygments_lexer": "ipython3",
   "version": "3.11.3"
  }
 },
 "nbformat": 4,
 "nbformat_minor": 5
}
